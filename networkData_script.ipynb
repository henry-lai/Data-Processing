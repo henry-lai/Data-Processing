{
 "cells": [
  {
   "cell_type": "code",
   "execution_count": 10,
   "metadata": {},
   "outputs": [],
   "source": [
    "\n",
    "import glob\n",
    "import os\n",
    "import pandas as pd\n",
    "import re\n",
    "\n",
    "#TODO : Change df_date to be abstract\n",
    "#TODO : Create output directory that has month taken into account i.e. ' output_data/{Month}/ '\n",
    "#WARNING! DATE IS CURRENTLY HARDCODED for MARCH\n",
    "\n",
    "path = os.getcwd()\n",
    "csv_files = glob.glob(os.path.join(path, \"Raw_data/*.csv\"))\n",
    "\n",
    "dataframe = 'df-{}'\n",
    "for f in csv_files:\n",
    "    df = pd.read_csv(f)\n",
    "\n",
    "    df['Dates'] = pd.to_datetime(df['Date']).dt.date\n",
    "    df['Time'] = pd.to_datetime(df['Date']).dt.time\n",
    "    df1 = df[['Dates','Time','DL(Mbps)','UL(Mbps)']].copy()\n",
    "    df1['hour'] = pd.to_datetime(df1['Time'].astype(str)).dt.hour\n",
    "    df2 = df1.loc[df1.hour==9]\n",
    "    df3 = df1.loc[df1.hour==16]\n",
    "    df4 = df2[['Dates','DL(Mbps)','UL(Mbps)']] \n",
    "    df5 = df3[['Dates','DL(Mbps)','UL(Mbps)']] \n",
    "\n",
    "    #Extract DL and UL out of the tables\n",
    "    df_9am_DL = df4[['Dates', 'DL(Mbps)']]\n",
    "    df_9am_UL = df4[['Dates', 'UL(Mbps)']]\n",
    "    df_4pm_DL = df5[['Dates', 'DL(Mbps)']]\n",
    "    df_4pm_UL = df5[['Dates', 'UL(Mbps)']]\n",
    "\n",
    "    # We want table to have 1 column split to 2 sub-column                               DL       |      UL\n",
    "    mux = pd.MultiIndex.from_product([['DL','UL'],['9am','4pm']])                   # =======================\n",
    "    speedtest_data = pd.DataFrame(None,columns=mux)                                 # 9am | 4pm ||| 9am | 4pm\n",
    "\n",
    "    #WARNING! DATE IS CURRENTLY HARDCODED for MARCH\n",
    "    df_date = pd.DataFrame({'Date':pd.date_range(start='2022-03-01',end='2022-03-31')})\n",
    "    speedtest_data1 = pd.concat([df_date,speedtest_data],axis=1)\n",
    "\n",
    "    speedtest_data1[('DL','9am')] = pd.Series(df_9am_DL['DL(Mbps)'].values)\n",
    "    speedtest_data1[('DL','4pm')] = pd.Series(df_4pm_DL['DL(Mbps)'].values)\n",
    "    speedtest_data1[('UL','9am')] = pd.Series(df_9am_UL['UL(Mbps)'].values)\n",
    "    speedtest_data1[('UL','4pm')] = pd.Series(df_4pm_UL['UL(Mbps)'].values)\n",
    "\n",
    "    #remove 'MBps unit from data'\n",
    "    speedtest_data1[('DL','9am')] = speedtest_data1[('DL','9am')].str.replace(r'\\D+','',regex=True)\n",
    "    speedtest_data1[('DL','4pm')] = speedtest_data1[('DL','4pm')].str.replace(r'\\D+','',regex=True)\n",
    "    speedtest_data1[('UL','9am')] = speedtest_data1[('UL','9am')].str.replace(r'\\D+','',regex=True)\n",
    "    speedtest_data1[('UL','4pm')] = speedtest_data1[('UL','4pm')].str.replace(r'\\D+','',regex=True)\n",
    "\n",
    "    #output the files as csv\n",
    "    file_name = f.split(\"/\")[-1]\n",
    "    output_file = '{}_output'\n",
    "\n",
    "    # check if a directory exist, if not create it\n",
    "    if not os.path.isdir('output_data'):\n",
    "        os.makedirs('output_data')\n",
    "\n",
    "    speedtest_data1.to_csv(path+'/output_data/'+output_file.format(file_name), sep='\\t', encoding='utf=8')\n"
   ]
  }
 ],
 "metadata": {
  "interpreter": {
   "hash": "916dbcbb3f70747c44a77c7bcd40155683ae19c65e1c03b4aa3499c5328201f1"
  },
  "kernelspec": {
   "display_name": "Python 3.9.7 64-bit",
   "language": "python",
   "name": "python3"
  },
  "language_info": {
   "codemirror_mode": {
    "name": "ipython",
    "version": 3
   },
   "file_extension": ".py",
   "mimetype": "text/x-python",
   "name": "python",
   "nbconvert_exporter": "python",
   "pygments_lexer": "ipython3",
   "version": "3.10.4"
  },
  "orig_nbformat": 4
 },
 "nbformat": 4,
 "nbformat_minor": 2
}
